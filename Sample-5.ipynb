{
 "cells": [
  {
   "cell_type": "markdown",
   "metadata": {},
   "source": [
    "## Python3.7 基础练习"
   ]
  },
  {
   "cell_type": "markdown",
   "metadata": {},
   "source": [
    "### 1、元组"
   ]
  },
  {
   "cell_type": "code",
   "execution_count": 26,
   "metadata": {},
   "outputs": [
    {
     "name": "stdout",
     "output_type": "stream",
     "text": [
      "1\n",
      "2\n",
      "3\n",
      "43\n",
      "23\n",
      "0\n",
      "12\n",
      "2\n",
      "--------------------------------------------\n",
      "2\n",
      "3\n",
      "5\n",
      "2\n",
      "8\n",
      "9\n",
      "20\n",
      "43\n",
      "3\n",
      "--------------------------------------------\n",
      "google\n",
      "baidu\n",
      "1\n",
      "2\n",
      "4\n",
      "--------------------------------------------\n",
      "This a dog\n",
      "aa\n",
      "2\n",
      "3\n",
      "5\n",
      "--------------------------------------------\n",
      "a_tuple[0]: 1\n",
      "a_tuple[1:5] (2, 3, 43, 23)\n",
      "--------------------------------------------\n",
      "--------------------------------------------\n",
      "--------------------------------------------\n",
      "--------------------------------------------\n",
      "baidu\n",
      "--------------------------------------------\n",
      "aa\n",
      "--------------------------------------------\n",
      "(3, 5, 2, 8, 9, 20, 43, 3)\n",
      "--------------------------------------------\n",
      "43\n",
      "--------------------------------------------\n",
      "0\n"
     ]
    }
   ],
   "source": [
    "a_tuple = (1,2,3,43,23,0,12,2)\n",
    "b_tuple = 2,3,5,2,8,9,20,43,3\n",
    "c_tuple = ('google', 'baidu',1,2,4)\n",
    "d_tuple = \"This a dog\",\"aa\", 2,3,5\n",
    "e_tuple = () # 空无组\n",
    "# 使用index打印\n",
    "for i in range(len(a_tuple)):\n",
    "    print(a_tuple[i])\n",
    "    \n",
    "print(\"--------------------------------------------\")\n",
    "\n",
    "# 直接打印\n",
    "for b in b_tuple:\n",
    "    print(b)\n",
    "\n",
    "print(\"--------------------------------------------\")\n",
    "\n",
    "for c in c_tuple:\n",
    "    print(c)\n",
    "    \n",
    "print(\"--------------------------------------------\")\n",
    "\n",
    "for d in d_tuple:\n",
    "    print(d)\n",
    "\n",
    "print(\"--------------------------------------------\")\n",
    "\n",
    "print(\"a_tuple[0]:\",a_tuple[0])\n",
    "# index范围都是[)左闭右开区间\n",
    "print(\"a_tuple[1:5]\",a_tuple[1:5]) \n",
    "\n",
    "print(\"--------------------------------------------\")\n",
    "\n",
    "# 列表转无组\n",
    "list1= ['Google', 'Taobao', 'Runoob', 'Baidu']\n",
    "t1 = tuple(list1)\n",
    "t1\n",
    "print(\"--------------------------------------------\")\n",
    "## 元组中的元素值是不允许修改的\n",
    "## 元组可以连接\n",
    "t2 = a_tuple + d_tuple\n",
    "t2\n",
    "\n",
    "print(\"--------------------------------------------\")\n",
    "\n",
    "## 元组删除\n",
    "del t2\n",
    "# t2 # 元组删除后再打印会报异常\n",
    "\n",
    "print(\"--------------------------------------------\")\n",
    "\n",
    "## c_tuple[1]  - 读取第二个元素\n",
    "print(c_tuple[1])\n",
    "\n",
    "print(\"--------------------------------------------\")\n",
    "\n",
    "## c_tuple[-4]反向读取，读取倒数第四个元素\n",
    "print(d_tuple[-4])\n",
    "\n",
    "print(\"--------------------------------------------\")\n",
    "\n",
    "## b_tuple[1:]截取元素，从第二个开始后的所有元素\n",
    "print(b_tuple[1:])\n",
    "\n",
    "print(\"--------------------------------------------\")\n",
    "\n",
    "## max(a_tuple) 返回元组中元素最大值\n",
    "print(max(a_tuple))\n",
    "\n",
    "print(\"--------------------------------------------\")\n",
    "\n",
    "## min(a_tuple) 返回元组中元素最小值\n",
    "print(min(a_tuple))\n"
   ]
  },
  {
   "cell_type": "markdown",
   "metadata": {},
   "source": [
    "### 2、列表"
   ]
  },
  {
   "cell_type": "code",
   "execution_count": 20,
   "metadata": {},
   "outputs": [
    {
     "name": "stdout",
     "output_type": "stream",
     "text": [
      "--------------------------------------------------------------------------\n",
      "1\n",
      "2\n",
      "3\n",
      "4\n",
      "2\n",
      "3\n",
      "5\n",
      "--------------------------------------------------------------------------\n",
      "a\n",
      "b\n",
      "c\n",
      "d\n",
      "--------------------------------------------------------------------------\n",
      "c\n",
      "['Google', 'Runoob']\n",
      "[3, 4, 2]\n",
      "--------------------------------------------------------------------------\n",
      "更新前d_list[1]： Runoob\n",
      "更新后d_list[1]： Baidu\n",
      "--------------------------------------------------------------------------\n",
      "删除前d_list： ['Google', 'Baidu', 1997, 2000]\n",
      "删除后d_list： ['Google', 1997, 2000]\n",
      "--------------------------------------------------------------------------\n",
      "[[1, 2, 3], [4, 5, 6], [7, 8, 9]]\n",
      "5\n",
      "--------------------------------------------------------------------------\n",
      "3\n",
      "7\n",
      "5\n",
      "1\n",
      "[1, 2, 3, 4]\n",
      " list.append--------------------------------------------------------------------------\n",
      "d_list: ['Google', 1997, 2000, 23]\n",
      "list.count--------------------------------------------------------------------------\n",
      "a_list`s 2 count: 2\n",
      "list.extend--------------------------------------------------------------------------\n",
      "d_list: ['Google', 1997, 2000, 23, 'oa', 'wps', 'jd']\n",
      "--------------------------------------------------------------------------\n",
      "1\n",
      "list.insert--------------------------------------------------------------------------\n",
      "['Google', 1997, 'abc', 2000, 23, 'oa', 'wps', 'jd']\n",
      "list.pop--------------------------------------------------------------------------\n",
      "['Google', 1997, 2000, 23, 'oa', 'wps', 'jd']\n",
      "list.remove--------------------------------------------------------------------------\n",
      "c_list: ['a', 'b', 'c', 'd']\n",
      "c_list: ['a', 'c', 'd']\n",
      "list.reverse--------------------------------------------------------------------------\n",
      "Before reverse sort: ['a', 'b', 'c', 'd']\n",
      "After reverse sort: ['d', 'c', 'b', 'a']\n",
      " list.sort--------------------------------------------------------------------------\n",
      "Before reverse sort: [1, 2, 3, 4, 2, 3, 5]\n",
      "After reverse sort: [5, 4, 3, 3, 2, 2, 1]\n",
      "list.clear()--------------------------------------------------------------------------\n",
      "[]\n",
      "list.copy()--------------------------------------------------------------------------\n",
      "[5, 4, 3, 3, 2, 2, 1]\n",
      "[5, 4, 3, 3, 2, 2, 1]\n",
      "--------------------------------------------------------------------------\n"
     ]
    }
   ],
   "source": [
    "a_list = [1,2,3,4,2,3,5]\n",
    "b_list = ['a','b','c','d']\n",
    "c_list = [\"a\", \"b\", \"c\", \"d\"]\n",
    "d_list = ['Google', 'Runoob', 1997, 2000]\n",
    "\n",
    "print(\"--------------------------------------------------------------------------\")\n",
    "# 直接打印\n",
    "for a in a_list:\n",
    "    print(a)\n",
    "\n",
    "print(\"--------------------------------------------------------------------------\")\n",
    "# 通过index打印\n",
    "for i in range(len(b_list)):\n",
    "    print(b_list[i])\n",
    "    \n",
    "print(\"--------------------------------------------------------------------------\")\n",
    "\n",
    "print(c_list[2])\n",
    "print(d_list[:2])\n",
    "print(a_list[2:5])\n",
    "\n",
    "print(\"--------------------------------------------------------------------------\")\n",
    "\n",
    "# 更新列表\n",
    "print(\"更新前d_list[1]：\",d_list[1])\n",
    "d_list[1] = 'Baidu'\n",
    "print(\"更新后d_list[1]：\",d_list[1])\n",
    "\n",
    "print(\"--------------------------------------------------------------------------\")\n",
    "\n",
    "# 删除列表中元素\n",
    "print(\"删除前d_list：\",d_list)\n",
    "del d_list[1]\n",
    "print(\"删除后d_list：\",d_list)\n",
    "\n",
    "print(\"--------------------------------------------------------------------------\")\n",
    "\n",
    "# 多维列表\n",
    "e_list = [[1,2,3],[4,5,6],[7,8,9]]\n",
    "print(e_list)\n",
    "# 行与列下标都是从0开始的\n",
    "print(e_list[1][1])\n",
    "\n",
    "print(\"--------------------------------------------------------------------------\")\n",
    "\n",
    "# len(list) 列表元素个数\n",
    "print(len(e_list))\n",
    "print(len(a_list))\n",
    "\n",
    "# max(list) 返回列表元素最大值\n",
    "print(max(a_list))\n",
    "\n",
    "# min(list) 返回列表元素最小值\n",
    "print(min(a_list))\n",
    "\n",
    "# 将元组转换为列表\n",
    "x_tuple = (1,2,3,4)\n",
    "l = list(x_tuple)\n",
    "print(l)\n",
    "\n",
    "print(\" list.append--------------------------------------------------------------------------\")\n",
    "\n",
    "# list.append(obj) 在列表末尾添加新的对象\n",
    "d_list.append(23)\n",
    "print(\"d_list:\",d_list)\n",
    "\n",
    "print(\"list.count--------------------------------------------------------------------------\")\n",
    "\n",
    "# list.count(obj) 统计某个元素在列表中出现的次数\n",
    "print(\"a_list`s 2 count:\",a_list.count(2))\n",
    "\n",
    "print(\"list.extend--------------------------------------------------------------------------\")\n",
    "\n",
    "# list.extend(seq) 在列表末尾一次性追加另一个序列中的多个值（用新列表扩展原来的列表）\n",
    "y_tuple = ('oa','wps','jd')\n",
    "d_list.extend(y_tuple)\n",
    "print(\"d_list:\",d_list)\n",
    "\n",
    "print(\"--------------------------------------------------------------------------\")\n",
    "\n",
    "# list.index(obj) 从列表中找出某个值第一个匹配项的索引位置\n",
    "print(d_list.index(1997))\n",
    "\n",
    "print(\"list.insert--------------------------------------------------------------------------\")\n",
    "\n",
    "# list.insert(index, obj) 将对象插入列表\n",
    "d_list.insert(2,'abc')\n",
    "print(d_list)\n",
    "\n",
    "print(\"list.pop--------------------------------------------------------------------------\")\n",
    "\n",
    "# list.pop([index=-1]) 移除列表中的一个元素（默认最后一个元素），并且返回该元素的值\n",
    "d_list.pop(2)\n",
    "print(d_list)\n",
    "\n",
    "print(\"list.remove--------------------------------------------------------------------------\")\n",
    "\n",
    "# list.remove(obj) 移除列表中某个值的第一个匹配项\n",
    "print(\"c_list:\",c_list)\n",
    "c_list.remove(\"b\")\n",
    "print(\"c_list:\",c_list)\n",
    "\n",
    "print(\"list.reverse--------------------------------------------------------------------------\")\n",
    "\n",
    "# list.reverse() 反向列表中元素\n",
    "print(\"Before reverse sort:\",b_list)\n",
    "b_list.reverse()\n",
    "print(\"After reverse sort:\",b_list)\n",
    "\n",
    "print(\" list.sort--------------------------------------------------------------------------\")\n",
    "\n",
    "# list.sort( key=None, reverse=False) 对原列表进行排序\n",
    "print(\"Before reverse sort:\",a_list)\n",
    "a_list.sort(reverse=True)\n",
    "print(\"After reverse sort:\",a_list)\n",
    "\n",
    "print(\"list.clear()--------------------------------------------------------------------------\")\n",
    "\n",
    "# list.clear() 清空列表\n",
    "b_list.clear()\n",
    "print(b_list)\n",
    "\n",
    "print(\"list.copy()--------------------------------------------------------------------------\")\n",
    "\n",
    "# list.copy() 复制列表\n",
    "l2 = a_list.copy()\n",
    "print(a_list)\n",
    "print(l2)\n",
    "\n",
    "print(\"--------------------------------------------------------------------------\")"
   ]
  },
  {
   "cell_type": "markdown",
   "metadata": {},
   "source": [
    "### 3、字典"
   ]
  },
  {
   "cell_type": "code",
   "execution_count": 44,
   "metadata": {},
   "outputs": [
    {
     "name": "stdout",
     "output_type": "stream",
     "text": [
      "100\n"
     ]
    }
   ],
   "source": [
    "a_dic = {'Alic':100,'Tom':0,'ada':59}\n",
    "b_dic = {'Alice': '2341', 'Beth': '9102', 'Cecil': '3258'}\n",
    "c_dic = {'Name': 'Runoob', 'Age': 7, 'Class': 'First'}\n",
    "print(a_dic['Alic'])"
   ]
  },
  {
   "cell_type": "code",
   "execution_count": 45,
   "metadata": {},
   "outputs": [
    {
     "name": "stdout",
     "output_type": "stream",
     "text": [
      "{'Name': 'Runoob', 'Age': 24, 'Class': 'First'}\n"
     ]
    }
   ],
   "source": [
    "# 更新数据\n",
    "c_dic['Age']=24\n",
    "print(c_dic)"
   ]
  },
  {
   "cell_type": "code",
   "execution_count": 46,
   "metadata": {},
   "outputs": [
    {
     "name": "stdout",
     "output_type": "stream",
     "text": [
      "3\n"
     ]
    }
   ],
   "source": [
    "# len(dict) 计算字典元素个数，即键的总数\n",
    "print(len(a_dic))"
   ]
  },
  {
   "cell_type": "code",
   "execution_count": 47,
   "metadata": {},
   "outputs": [
    {
     "name": "stdout",
     "output_type": "stream",
     "text": [
      "{'Alic': 100, 'Tom': 0, 'ada': 59}\n"
     ]
    }
   ],
   "source": [
    "# str(dict) 输出字典，以可打印的字符串表示。\n",
    "print(str(a_dic))"
   ]
  },
  {
   "cell_type": "code",
   "execution_count": 48,
   "metadata": {},
   "outputs": [
    {
     "name": "stdout",
     "output_type": "stream",
     "text": [
      "<class 'dict'>\n"
     ]
    }
   ],
   "source": [
    "# type(variable) 返回输入的变量类型，如果变量是字典就返回字典类型。\n",
    "print(type(a_dic))"
   ]
  },
  {
   "cell_type": "code",
   "execution_count": 49,
   "metadata": {},
   "outputs": [
    {
     "name": "stdout",
     "output_type": "stream",
     "text": [
      "{'Alic': 100, 'Tom': 0, 'ada': 59}\n"
     ]
    }
   ],
   "source": [
    "# 字典拷贝,返回一个字典的浅复制\n",
    "d_dic = {}\n",
    "d_dic = a_dic.copy()\n",
    "print(d_dic)"
   ]
  },
  {
   "cell_type": "code",
   "execution_count": 50,
   "metadata": {},
   "outputs": [
    {
     "name": "stdout",
     "output_type": "stream",
     "text": [
      "100\n"
     ]
    }
   ],
   "source": [
    "# dict.get(key, default=None)\n",
    "# key -- 字典中要查找的键。\n",
    "# default -- 如果指定的键不存在时，返回该默认值值。\n",
    "print(a_dic.get('Alic'))"
   ]
  },
  {
   "cell_type": "code",
   "execution_count": 51,
   "metadata": {},
   "outputs": [
    {
     "name": "stdout",
     "output_type": "stream",
     "text": [
      "True\n",
      "False\n"
     ]
    }
   ],
   "source": [
    "# key in dict\n",
    "# key -- 要在字典中查找的键。\n",
    "print('Alic' in a_dic)\n",
    "print('Alic' in b_dic)"
   ]
  },
  {
   "cell_type": "code",
   "execution_count": 52,
   "metadata": {},
   "outputs": [
    {
     "name": "stdout",
     "output_type": "stream",
     "text": [
      "dict_items([('Alic', 100), ('Tom', 0), ('ada', 59)])\n"
     ]
    }
   ],
   "source": [
    "# dict.items()\n",
    "# 返回可遍历的(键, 值) 元组数组\n",
    "print(a_dic.items())"
   ]
  },
  {
   "cell_type": "code",
   "execution_count": 53,
   "metadata": {},
   "outputs": [
    {
     "name": "stdout",
     "output_type": "stream",
     "text": [
      "dict_keys(['Alic', 'Tom', 'ada'])\n"
     ]
    }
   ],
   "source": [
    "# dict.keys()\n",
    "# 返回一个迭代器。\n",
    "print(a_dic.keys())"
   ]
  },
  {
   "cell_type": "code",
   "execution_count": 54,
   "metadata": {},
   "outputs": [
    {
     "name": "stdout",
     "output_type": "stream",
     "text": [
      "dict_values([100, 0, 59])\n"
     ]
    }
   ],
   "source": [
    "# dict.values()\n",
    "# 返回一个迭代器，可以使用 list() 来转换为列表\n",
    "print(a_dic.values())"
   ]
  },
  {
   "cell_type": "code",
   "execution_count": 55,
   "metadata": {},
   "outputs": [
    {
     "name": "stdout",
     "output_type": "stream",
     "text": [
      "{'aa': None, 'bb': None, 'cc': None, 'dd': 789}\n"
     ]
    }
   ],
   "source": [
    "# dict.setdefault(key, default=None)\n",
    "# key -- 查找的键值\n",
    "# default -- 键不存在时，设置的默认键值\n",
    "v_dic = {'aa':None,'bb':None,'cc':None}\n",
    "v_dic.setdefault('aa',123)\n",
    "v_dic.setdefault('bb',456)\n",
    "v_dic.setdefault('dd',789)\n",
    "print(v_dic)"
   ]
  },
  {
   "cell_type": "code",
   "execution_count": 56,
   "metadata": {},
   "outputs": [
    {
     "name": "stdout",
     "output_type": "stream",
     "text": [
      "{'Name': 'Runoob', 'Age': 7, 'Sex': 'female'}\n",
      "{'Sex': 'female'}\n"
     ]
    }
   ],
   "source": [
    "# dict.update(dict2)\n",
    "# 该方法没有任何返回值。把dict2里的数据追加到dict中\n",
    "p_dic = {'Name': 'Runoob', 'Age': 7}\n",
    "q_dic = {'Sex': 'female' }\n",
    "p_dic.update(q_dic)\n",
    "print(p_dic)\n",
    "print(q_dic)"
   ]
  },
  {
   "cell_type": "code",
   "execution_count": 57,
   "metadata": {},
   "outputs": [
    {
     "name": "stdout",
     "output_type": "stream",
     "text": [
      "{'Age': 7, 'Sex': 'female'}\n"
     ]
    }
   ],
   "source": [
    "# pop(key[,default])\n",
    "# key: 要删除的键值\n",
    "# default: 如果没有 key，返回 default 值\n",
    "p_dic.pop('Name')\n",
    "print(p_dic)"
   ]
  },
  {
   "cell_type": "code",
   "execution_count": 58,
   "metadata": {},
   "outputs": [
    {
     "name": "stdout",
     "output_type": "stream",
     "text": [
      "('url', 'google.com')\n",
      "{'name': '张三', 'alexa': 10000}\n"
     ]
    }
   ],
   "source": [
    "# popitem()\n",
    "# 返回一个键值对(key,value)形式，按照 LIFO（Last In First Out 后进先出法） 顺序规则，即最末尾的键值对。\n",
    "o_dic = {'name': '张三', 'alexa': 10000, 'url': 'google.com'}\n",
    "result =o_dic.popitem()\n",
    "print(result)  \n",
    "print(o_dic)"
   ]
  },
  {
   "cell_type": "code",
   "execution_count": 59,
   "metadata": {},
   "outputs": [
    {
     "name": "stdout",
     "output_type": "stream",
     "text": [
      "{'name': None, 'age': None, 'sex': None}\n",
      "{'name': 10, 'age': 10, 'sex': 10}\n"
     ]
    }
   ],
   "source": [
    "# dict.fromkeys(seq[, value])\n",
    "# seq -- 字典键值列表\n",
    "# value -- 可选参数, 设置键序列（seq）对应的值，默认为 None\n",
    "u_tuple = ('name','age','sex')\n",
    "e_dic = dict.fromkeys(u_tuple)\n",
    "print(e_dic)\n",
    "f_dic = dict.fromkeys(u_tuple,10)\n",
    "print(f_dic)"
   ]
  },
  {
   "cell_type": "code",
   "execution_count": 60,
   "metadata": {},
   "outputs": [],
   "source": [
    "# 删除键'Name'\n",
    "del c_dic['Name']\n",
    "\n",
    "# 使用 del 删除手，再打印会抛异常，因为使用del删除是真删除\n",
    "# KeyError: 'Name'\n",
    "# print(\"c_dic:\",c_dic)"
   ]
  },
  {
   "cell_type": "code",
   "execution_count": 61,
   "metadata": {},
   "outputs": [
    {
     "name": "stdout",
     "output_type": "stream",
     "text": [
      "b_dic: {}\n"
     ]
    }
   ],
   "source": [
    "# 清空字典\n",
    "b_dic.clear()\n",
    "print(\"b_dic:\",b_dic)"
   ]
  },
  {
   "cell_type": "code",
   "execution_count": 62,
   "metadata": {},
   "outputs": [],
   "source": [
    "# 删除字典\n",
    "del a_dic\n",
    "# 使用 del 删除手，再打印会抛异常，因为使用del删除是真删除\n",
    "# 报 NameError: name 'a_dic' is not defined\n",
    "# print(\"a_dic:\",a_dic)"
   ]
  },
  {
   "cell_type": "markdown",
   "metadata": {},
   "source": [
    "### 4、载入模块"
   ]
  },
  {
   "cell_type": "code",
   "execution_count": 63,
   "metadata": {},
   "outputs": [
    {
     "name": "stdout",
     "output_type": "stream",
     "text": [
      "time.struct_time(tm_year=2020, tm_mon=7, tm_mday=29, tm_hour=10, tm_min=58, tm_sec=53, tm_wday=2, tm_yday=211, tm_isdst=0)\n"
     ]
    }
   ],
   "source": [
    "# 最直接简单粗暴的引用\n",
    "import time\n",
    "\n",
    "print(time.localtime())"
   ]
  },
  {
   "cell_type": "code",
   "execution_count": 64,
   "metadata": {},
   "outputs": [
    {
     "name": "stdout",
     "output_type": "stream",
     "text": [
      "time.struct_time(tm_year=2020, tm_mon=7, tm_mday=29, tm_hour=10, tm_min=58, tm_sec=54, tm_wday=2, tm_yday=211, tm_isdst=0)\n"
     ]
    }
   ],
   "source": [
    "# 这种方式对于导入的类名比较长，通过 as 起个短点的别名，方便后面代码中使用 \n",
    "import time as t\n",
    "\n",
    "print(t.localtime())"
   ]
  },
  {
   "cell_type": "code",
   "execution_count": 65,
   "metadata": {},
   "outputs": [
    {
     "name": "stdout",
     "output_type": "stream",
     "text": [
      "1595991534.3412168\n",
      "time.struct_time(tm_year=2020, tm_mon=7, tm_mday=29, tm_hour=10, tm_min=58, tm_sec=54, tm_wday=2, tm_yday=211, tm_isdst=0)\n"
     ]
    }
   ],
   "source": [
    "# 引入time所有功能的time,localtime功能\n",
    "from time import time, localtime\n",
    "# 这种方式前面不用time. 而是直接使用里面的函数\n",
    "print(time())\n",
    "print(localtime())"
   ]
  },
  {
   "cell_type": "code",
   "execution_count": 66,
   "metadata": {},
   "outputs": [
    {
     "name": "stdout",
     "output_type": "stream",
     "text": [
      "1595991534.5608525\n"
     ]
    }
   ],
   "source": [
    "# 与上面导入部分功能不同的是，下面这个导入了time的全部功能\n",
    "from time import *\n",
    "\n",
    "print(time())"
   ]
  },
  {
   "cell_type": "code",
   "execution_count": null,
   "metadata": {},
   "outputs": [],
   "source": []
  }
 ],
 "metadata": {
  "kernelspec": {
   "display_name": "Python 3",
   "language": "python",
   "name": "python3"
  },
  "language_info": {
   "codemirror_mode": {
    "name": "ipython",
    "version": 3
   },
   "file_extension": ".py",
   "mimetype": "text/x-python",
   "name": "python",
   "nbconvert_exporter": "python",
   "pygments_lexer": "ipython3",
   "version": "3.7.7"
  }
 },
 "nbformat": 4,
 "nbformat_minor": 4
}
