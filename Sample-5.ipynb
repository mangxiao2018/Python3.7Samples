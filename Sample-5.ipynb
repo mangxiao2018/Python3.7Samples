{
 "cells": [
  {
   "cell_type": "markdown",
   "metadata": {},
   "source": [
    "## Python3.7 基础练习"
   ]
  },
  {
   "cell_type": "markdown",
   "metadata": {},
   "source": [
    "### 1、元组"
   ]
  },
  {
   "cell_type": "code",
   "execution_count": 26,
   "metadata": {},
   "outputs": [
    {
     "name": "stdout",
     "output_type": "stream",
     "text": [
      "1\n",
      "2\n",
      "3\n",
      "43\n",
      "23\n",
      "0\n",
      "12\n",
      "2\n",
      "--------------------------------------------\n",
      "2\n",
      "3\n",
      "5\n",
      "2\n",
      "8\n",
      "9\n",
      "20\n",
      "43\n",
      "3\n",
      "--------------------------------------------\n",
      "google\n",
      "baidu\n",
      "1\n",
      "2\n",
      "4\n",
      "--------------------------------------------\n",
      "This a dog\n",
      "aa\n",
      "2\n",
      "3\n",
      "5\n",
      "--------------------------------------------\n",
      "a_tuple[0]: 1\n",
      "a_tuple[1:5] (2, 3, 43, 23)\n",
      "--------------------------------------------\n",
      "--------------------------------------------\n",
      "--------------------------------------------\n",
      "--------------------------------------------\n",
      "baidu\n",
      "--------------------------------------------\n",
      "aa\n",
      "--------------------------------------------\n",
      "(3, 5, 2, 8, 9, 20, 43, 3)\n",
      "--------------------------------------------\n",
      "43\n",
      "--------------------------------------------\n",
      "0\n"
     ]
    }
   ],
   "source": [
    "a_tuple = (1,2,3,43,23,0,12,2)\n",
    "b_tuple = 2,3,5,2,8,9,20,43,3\n",
    "c_tuple = ('google', 'baidu',1,2,4)\n",
    "d_tuple = \"This a dog\",\"aa\", 2,3,5\n",
    "e_tuple = () # 空无组\n",
    "# 使用index打印\n",
    "for i in range(len(a_tuple)):\n",
    "    print(a_tuple[i])\n",
    "    \n",
    "print(\"--------------------------------------------\")\n",
    "\n",
    "# 直接打印\n",
    "for b in b_tuple:\n",
    "    print(b)\n",
    "\n",
    "print(\"--------------------------------------------\")\n",
    "\n",
    "for c in c_tuple:\n",
    "    print(c)\n",
    "    \n",
    "print(\"--------------------------------------------\")\n",
    "\n",
    "for d in d_tuple:\n",
    "    print(d)\n",
    "\n",
    "print(\"--------------------------------------------\")\n",
    "\n",
    "print(\"a_tuple[0]:\",a_tuple[0])\n",
    "# index范围都是[)左闭右开区间\n",
    "print(\"a_tuple[1:5]\",a_tuple[1:5]) \n",
    "\n",
    "print(\"--------------------------------------------\")\n",
    "\n",
    "# 列表转无组\n",
    "list1= ['Google', 'Taobao', 'Runoob', 'Baidu']\n",
    "t1 = tuple(list1)\n",
    "t1\n",
    "print(\"--------------------------------------------\")\n",
    "## 元组中的元素值是不允许修改的\n",
    "## 元组可以连接\n",
    "t2 = a_tuple + d_tuple\n",
    "t2\n",
    "\n",
    "print(\"--------------------------------------------\")\n",
    "\n",
    "## 元组删除\n",
    "del t2\n",
    "# t2 # 元组删除后再打印会报异常\n",
    "\n",
    "print(\"--------------------------------------------\")\n",
    "\n",
    "## c_tuple[1]  - 读取第二个元素\n",
    "print(c_tuple[1])\n",
    "\n",
    "print(\"--------------------------------------------\")\n",
    "\n",
    "## c_tuple[-4]反向读取，读取倒数第四个元素\n",
    "print(d_tuple[-4])\n",
    "\n",
    "print(\"--------------------------------------------\")\n",
    "\n",
    "## b_tuple[1:]截取元素，从第二个开始后的所有元素\n",
    "print(b_tuple[1:])\n",
    "\n",
    "print(\"--------------------------------------------\")\n",
    "\n",
    "## max(a_tuple) 返回元组中元素最大值\n",
    "print(max(a_tuple))\n",
    "\n",
    "print(\"--------------------------------------------\")\n",
    "\n",
    "## min(a_tuple) 返回元组中元素最小值\n",
    "print(min(a_tuple))\n"
   ]
  },
  {
   "cell_type": "markdown",
   "metadata": {},
   "source": [
    "### 2、列表"
   ]
  },
  {
   "cell_type": "code",
   "execution_count": null,
   "metadata": {},
   "outputs": [],
   "source": []
  },
  {
   "cell_type": "markdown",
   "metadata": {},
   "source": [
    "### 3、字典"
   ]
  },
  {
   "cell_type": "code",
   "execution_count": null,
   "metadata": {},
   "outputs": [],
   "source": []
  },
  {
   "cell_type": "markdown",
   "metadata": {},
   "source": [
    "### 4、载入模块"
   ]
  },
  {
   "cell_type": "code",
   "execution_count": null,
   "metadata": {},
   "outputs": [],
   "source": []
  }
 ],
 "metadata": {
  "kernelspec": {
   "display_name": "Python 3",
   "language": "python",
   "name": "python3"
  },
  "language_info": {
   "codemirror_mode": {
    "name": "ipython",
    "version": 3
   },
   "file_extension": ".py",
   "mimetype": "text/x-python",
   "name": "python",
   "nbconvert_exporter": "python",
   "pygments_lexer": "ipython3",
   "version": "3.7.7"
  }
 },
 "nbformat": 4,
 "nbformat_minor": 4
}
