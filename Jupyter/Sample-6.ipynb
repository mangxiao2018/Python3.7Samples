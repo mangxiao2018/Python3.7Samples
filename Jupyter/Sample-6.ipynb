{
 "cells": [
  {
   "cell_type": "markdown",
   "metadata": {},
   "source": [
    "## Python3.7 基础练习"
   ]
  },
  {
   "cell_type": "markdown",
   "metadata": {},
   "source": [
    "### 1、自己模块导入"
   ]
  },
  {
   "cell_type": "markdown",
   "metadata": {},
   "source": [
    "> 两种方法：  \n",
    "1、把自己写的类文件放在同级目录内，这样就可以使用import导入了  \n",
    "2、把自己写的类文件放在python安装的site-page目录下与其它的第三方类库处于同一级目录，这样也可以使用import导入了  "
   ]
  },
  {
   "cell_type": "markdown",
   "metadata": {},
   "source": [
    "### 2、continue & break"
   ]
  },
  {
   "cell_type": "code",
   "execution_count": 5,
   "metadata": {},
   "outputs": [
    {
     "name": "stdin",
     "output_type": "stream",
     "text": [
      "请输入一个数字: 2\n",
      "请输入一个数字: 4\n",
      "请输入一个数字: 5\n",
      "请输入一个数字: 6\n",
      "请输入一个数字: 8\n",
      "请输入一个数字: 3\n",
      "请输入一个数字: 4\n",
      "请输入一个数字: 5\n",
      "请输入一个数字: 1\n"
     ]
    }
   ],
   "source": [
    "# 不用break的处理办法\n",
    "stop = True\n",
    "\n",
    "while stop:\n",
    "    a = int(input('请输入一个数字:'))\n",
    "    if a == 1:\n",
    "        stop = False\n",
    "    else:\n",
    "        pass"
   ]
  },
  {
   "cell_type": "code",
   "execution_count": 6,
   "metadata": {},
   "outputs": [
    {
     "name": "stdin",
     "output_type": "stream",
     "text": [
      "请输入一个数字: 3\n",
      "请输入一个数字: 4\n",
      "请输入一个数字: 5\n",
      "请输入一个数字: 6\n",
      "请输入一个数字: 6\n",
      "请输入一个数字: 7\n",
      "请输入一个数字: 1\n"
     ]
    }
   ],
   "source": [
    "# 使用break的处理办法\n",
    "stop = True\n",
    "\n",
    "while stop:\n",
    "    a = int(input('请输入一个数字:'))\n",
    "    if a == 1:\n",
    "        break\n",
    "    else:\n",
    "        pass"
   ]
  },
  {
   "cell_type": "markdown",
   "metadata": {},
   "source": [
    "### 3、异常处理"
   ]
  },
  {
   "cell_type": "code",
   "execution_count": 1,
   "metadata": {},
   "outputs": [
    {
     "name": "stdout",
     "output_type": "stream",
     "text": [
      "File operate faile,Error:[Errno 2] No such file or directory: 'my_filex.txt'\n"
     ]
    }
   ],
   "source": [
    "try:\n",
    "    f = open('my_filex.txt')\n",
    "    content = f.readlines()\n",
    "    print(content)\n",
    "except IOError as e:\n",
    "    print(\"File operate faile,Error:{0}\".format(e))"
   ]
  },
  {
   "cell_type": "code",
   "execution_count": 9,
   "metadata": {},
   "outputs": [
    {
     "name": "stdout",
     "output_type": "stream",
     "text": [
      "['abadkjdla9welsdfja \\n', ' akdjfal;fjsalkfja\\n', 'adkfa;kaaaaaaaaaa \\n', 'bbbbbbbbbbb\\n', 'cccccccccccc\\n', 'aaaaaaaaaa \\n', 'bbbbbbbbbbb\\n', 'cccccccccccc']\n",
      "Bye\n"
     ]
    }
   ],
   "source": [
    "try:\n",
    "    f = open('my_filex.txt')\n",
    "    content = f.readlines()\n",
    "    print(content)\n",
    "except IOError as e:\n",
    "    print(\"File operate faile,Error:{0}\".format(e))\n",
    "else:\n",
    "    pass\n",
    "finally:\n",
    "    print('Bye')"
   ]
  },
  {
   "cell_type": "markdown",
   "metadata": {},
   "source": [
    "### 4、zip & lambda & map"
   ]
  },
  {
   "cell_type": "code",
   "execution_count": null,
   "metadata": {},
   "outputs": [],
   "source": []
  },
  {
   "cell_type": "markdown",
   "metadata": {},
   "source": [
    "### 5、浅复制 & 深复制"
   ]
  },
  {
   "cell_type": "code",
   "execution_count": null,
   "metadata": {},
   "outputs": [],
   "source": []
  },
  {
   "cell_type": "code",
   "execution_count": null,
   "metadata": {},
   "outputs": [],
   "source": []
  },
  {
   "cell_type": "code",
   "execution_count": null,
   "metadata": {},
   "outputs": [],
   "source": []
  }
 ],
 "metadata": {
  "kernelspec": {
   "display_name": "Python 3",
   "language": "python",
   "name": "python3"
  },
  "language_info": {
   "codemirror_mode": {
    "name": "ipython",
    "version": 3
   },
   "file_extension": ".py",
   "mimetype": "text/x-python",
   "name": "python",
   "nbconvert_exporter": "python",
   "pygments_lexer": "ipython3",
   "version": "3.7.7"
  }
 },
 "nbformat": 4,
 "nbformat_minor": 4
}
