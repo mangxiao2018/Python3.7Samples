{
 "cells": [
  {
   "cell_type": "markdown",
   "metadata": {},
   "source": [
    "# NumPy - 简介\n",
    "\n",
    "NumPy 是一个 Python 包。 它代表 “Numeric Python”。 它是一个由多维数组对象和用于处理数组的例程集合组成的库。\n",
    "\n",
    "**Numeric**，即 NumPy 的前身，是由 Jim Hugunin 开发的。 也开发了另一个包 Numarray ，它拥有一些额外的功能。 2005年，Travis Oliphant 通过将 Numarray 的功能集成到 Numeric 包中来创建 NumPy 包。 这个开源项目有很多贡献者。\n",
    "\n",
    "## NumPy 操作\n",
    "\n",
    "使用NumPy，开发人员可以执行以下操作：\n",
    "\n",
    "+   数组的算数和逻辑运算。\n",
    "\n",
    "+   傅立叶变换和用于图形操作的例程。\n",
    "\n",
    "+   与线性代数有关的操作。 NumPy 拥有线性代数和随机数生成的内置函数。\n",
    "\n",
    "## NumPy – MatLab 的替代之一\n",
    "\n",
    "NumPy 通常与 **SciPy**（Scientific Python）和 **Matplotlib**（绘图库）一起使用。 这种组合广泛用于替代 MatLab，是一个流行的技术计算平台。 但是，Python 作为 MatLab 的替代方案，现在被视为一种更加现代和完整的编程语言。\n",
    "\n",
    "NumPy 是开源的，这是它的一个额外的优势。\n",
    "\n"
   ]
  },
  {
   "cell_type": "code",
   "execution_count": null,
   "metadata": {},
   "outputs": [],
   "source": []
  }
 ],
 "metadata": {
  "kernelspec": {
   "display_name": "Python 3",
   "language": "python",
   "name": "python3"
  },
  "language_info": {
   "codemirror_mode": {
    "name": "ipython",
    "version": 3
   },
   "file_extension": ".py",
   "mimetype": "text/x-python",
   "name": "python",
   "nbconvert_exporter": "python",
   "pygments_lexer": "ipython3",
   "version": "3.7.7"
  }
 },
 "nbformat": 4,
 "nbformat_minor": 4
}
