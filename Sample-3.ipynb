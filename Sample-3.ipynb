{
 "cells": [
  {
   "cell_type": "markdown",
   "metadata": {},
   "source": [
    "## Python3.7 基础练习"
   ]
  },
  {
   "cell_type": "markdown",
   "metadata": {},
   "source": [
    "### 1、函数初始化"
   ]
  },
  {
   "cell_type": "code",
   "execution_count": 4,
   "metadata": {},
   "outputs": [
    {
     "name": "stdout",
     "output_type": "stream",
     "text": [
      " This Student` name is mangxiao ,his age is 18\n",
      " This Student` name is mangxiao ,his age is 18\n"
     ]
    }
   ],
   "source": [
    "def save_student(age,name):\n",
    "    print(f' This Student` name is {name} ,his age is {age}')\n",
    "\n",
    "save_student(18,\"mangxiao\")\n",
    "save_student(age=18,name=\"mangxiao\")"
   ]
  },
  {
   "cell_type": "markdown",
   "metadata": {},
   "source": [
    "### 2、全局变量与局部变量"
   ]
  },
  {
   "cell_type": "code",
   "execution_count": 6,
   "metadata": {},
   "outputs": [
    {
     "name": "stdout",
     "output_type": "stream",
     "text": [
      "Before function of Age Value: None\n",
      " This Student` name is mangxiao ,his age is 10\n",
      "After function of Age Value: None\n"
     ]
    }
   ],
   "source": [
    "age = None\n",
    "\n",
    "def save_student(name):\n",
    "    age = 10\n",
    "    print(f' This Student` name is {name} ,his age is {age}')\n",
    "\n",
    "print(\"Before function of Age Value:\",age)\n",
    "save_student(name=\"mangxiao\")\n",
    "print(\"After function of Age Value:\",age)"
   ]
  },
  {
   "cell_type": "code",
   "execution_count": 8,
   "metadata": {},
   "outputs": [
    {
     "name": "stdout",
     "output_type": "stream",
     "text": [
      "Before function of Age Value: None\n",
      " This Student` name is mangxiao ,his age is 10\n",
      "After function of Age Value: 10\n"
     ]
    }
   ],
   "source": [
    "age = None\n",
    "\n",
    "def save_student(name):\n",
    "    global age\n",
    "    age = 10\n",
    "    print(f' This Student` name is {name} ,his age is {age}')\n",
    "\n",
    "print(\"Before function of Age Value:\",age)\n",
    "save_student(name=\"mangxiao\")\n",
    "print(\"After function of Age Value:\",age)"
   ]
  },
  {
   "cell_type": "markdown",
   "metadata": {},
   "source": [
    "### 3、文件操作"
   ]
  },
  {
   "cell_type": "code",
   "execution_count": 11,
   "metadata": {},
   "outputs": [],
   "source": [
    "text = \"abadkjdla9welsdfja \\n akdjfal;fjsalkfja\\nadkfa;k\"\n",
    "f = open('my_file.txt','w')\n",
    "f.write(text)\n",
    "f.close()"
   ]
  },
  {
   "cell_type": "markdown",
   "metadata": {},
   "source": [
    "### 4、模块安装"
   ]
  },
  {
   "cell_type": "code",
   "execution_count": 9,
   "metadata": {},
   "outputs": [],
   "source": [
    "# 使用pip进行外部模块安装\n",
    "# 格式：pip install 模块名\n",
    "# 示例：pip install numpy\n",
    "# \n",
    "# 使用pip进行卸载外部模块\n",
    "# 格式：pip uninstall 模块名\n",
    "# 示例：pip uninstall numpy\n",
    "#\n",
    "# 使用pip进行模块版本升级\n",
    "# 格式：pip install 模块名-版本号 或  pip install -U 模块名\n",
    "\n"
   ]
  },
  {
   "cell_type": "code",
   "execution_count": null,
   "metadata": {},
   "outputs": [],
   "source": []
  }
 ],
 "metadata": {
  "kernelspec": {
   "display_name": "Python 3",
   "language": "python",
   "name": "python3"
  },
  "language_info": {
   "codemirror_mode": {
    "name": "ipython",
    "version": 3
   },
   "file_extension": ".py",
   "mimetype": "text/x-python",
   "name": "python",
   "nbconvert_exporter": "python",
   "pygments_lexer": "ipython3",
   "version": "3.7.7"
  }
 },
 "nbformat": 4,
 "nbformat_minor": 4
}
