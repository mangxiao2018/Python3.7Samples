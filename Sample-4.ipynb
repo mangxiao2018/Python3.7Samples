{
 "cells": [
  {
   "cell_type": "markdown",
   "metadata": {},
   "source": [
    "## Python3.7 基础练习"
   ]
  },
  {
   "cell_type": "markdown",
   "metadata": {},
   "source": [
    "### 1、读文件"
   ]
  },
  {
   "cell_type": "code",
   "execution_count": 2,
   "metadata": {},
   "outputs": [
    {
     "name": "stdout",
     "output_type": "stream",
     "text": [
      "abadkjdla9welsdfja \n",
      " akdjfal;fjsalkfja\n",
      "adkfa;kaaaaaaaaaa \n",
      "bbbbbbbbbbb\n",
      "cccccccccccc\n",
      "aaaaaaaaaa \n",
      "bbbbbbbbbbb\n",
      "cccccccccccc\n"
     ]
    }
   ],
   "source": [
    "## 全部一下子读出来 file.read()\n",
    "file = open('my_file.txt','r')\n",
    "content = file.read()\n",
    "print(content)"
   ]
  },
  {
   "cell_type": "code",
   "execution_count": 3,
   "metadata": {},
   "outputs": [
    {
     "name": "stdout",
     "output_type": "stream",
     "text": [
      "['abadkjdla9welsdfja \\n', ' akdjfal;fjsalkfja\\n', 'adkfa;kaaaaaaaaaa \\n', 'bbbbbbbbbbb\\n', 'cccccccccccc\\n', 'aaaaaaaaaa \\n', 'bbbbbbbbbbb\\n', 'cccccccccccc']\n"
     ]
    }
   ],
   "source": [
    "## 全部行读出来，效果与read()类似，只不过格式不一样 file.readlines()\n",
    "file = open('my_file.txt','r')\n",
    "content = file.readlines()\n",
    "print(content)"
   ]
  },
  {
   "cell_type": "code",
   "execution_count": 5,
   "metadata": {},
   "outputs": [
    {
     "name": "stdout",
     "output_type": "stream",
     "text": [
      "abadkjdla9welsdfja \n",
      "\n",
      " akdjfal;fjsalkfja\n",
      "\n",
      "adkfa;kaaaaaaaaaa \n",
      "\n"
     ]
    }
   ],
   "source": [
    "## 每运行一次只读出一行内容  file.readline()\n",
    "file = open('my_file.txt','r')\n",
    "content = file.readline()\n",
    "print(content)\n",
    "content = file.readline()\n",
    "print(content)\n",
    "content = file.readline()\n",
    "print(content)"
   ]
  },
  {
   "cell_type": "markdown",
   "metadata": {},
   "source": [
    "### 2、类定义&使用"
   ]
  },
  {
   "cell_type": "code",
   "execution_count": 7,
   "metadata": {},
   "outputs": [
    {
     "name": "stdout",
     "output_type": "stream",
     "text": [
      "This is a Calculator\n",
      "a + b = 3\n",
      "This is a Calculator\n",
      "a - b = 2\n",
      "a * b = 24\n",
      "a / b = 2.25\n"
     ]
    }
   ],
   "source": [
    "class Calculator:\n",
    "    c_name = 'This is a Calculator'\n",
    "    def add(self, a, b):\n",
    "        print(self.c_name)\n",
    "        print(f'a + b = {a+b}')\n",
    "        \n",
    "    def minus(self, a, b):\n",
    "        print(self.c_name)\n",
    "        print(f'a - b = {a-b}')\n",
    "        \n",
    "    def times(self, a, b):\n",
    "        print(f'a * b = {a*b}')\n",
    "    \n",
    "    def divide(self, a, b):\n",
    "        print(f'a / b = {a/b}')\n",
    "\n",
    "c = Calculator()\n",
    "c.add(1,2)\n",
    "c.minus(10,8)\n",
    "c.times(3,8)\n",
    "c.divide(9,4)"
   ]
  },
  {
   "cell_type": "markdown",
   "metadata": {},
   "source": [
    "### 3、初始化方法使用"
   ]
  },
  {
   "cell_type": "code",
   "execution_count": 11,
   "metadata": {},
   "outputs": [
    {
     "name": "stdout",
     "output_type": "stream",
     "text": [
      "zhangsan\n",
      "90\n",
      "100\n",
      "jd\n"
     ]
    }
   ],
   "source": [
    "class Calculator:\n",
    "    c_name = 'This is a Calculator'\n",
    "    name = 'mangxiao'\n",
    "    age = 30\n",
    "    sex = 'male'\n",
    "    company = 'ik'\n",
    "    def __init__(self,name,age,sex,company):\n",
    "        self.name = name\n",
    "        self.age = age\n",
    "        self.sex = sex\n",
    "        self.company = company\n",
    "        \n",
    "    def add(self, a, b):\n",
    "        print(self.c_name)\n",
    "        print(f'a + b = {a+b}')\n",
    "        \n",
    "    def minus(self, a, b):\n",
    "        print(self.c_name)\n",
    "        print(f'a - b = {a-b}')\n",
    "        \n",
    "    def times(self, a, b):\n",
    "        print(f'a * b = {a*b}')\n",
    "    \n",
    "    def divide(self, a, b):\n",
    "        print(f'a / b = {a/b}')\n",
    "\"\"\"\n",
    "当有了__init__()函数后，下面的引用类就报错了，因为没有在初始化时传参\n",
    "c = Calculator()\n",
    "c.add(1,2)\n",
    "c.minus(10,8)\n",
    "c.times(3,8)\n",
    "c.divide(9,4)\n",
    "\"\"\"\n",
    "c = Calculator('zhangsan',age=90,sex=100,company='jd')\n",
    "print(c.name)\n",
    "print(c.age)\n",
    "print(c.sex)\n",
    "print(c.company)"
   ]
  },
  {
   "cell_type": "code",
   "execution_count": 14,
   "metadata": {},
   "outputs": [
    {
     "name": "stdout",
     "output_type": "stream",
     "text": [
      "zhangsan\n",
      "90\n",
      "female\n",
      "jd\n"
     ]
    }
   ],
   "source": [
    "class Calculator:\n",
    "    c_name = 'This is a Calculator'\n",
    "    name = 'mangxiao'\n",
    "    age = 30\n",
    "    sex = 'male'\n",
    "    company = 'ik'\n",
    "    def __init__(self,age,company,name='zhangsan',sex='female'):\n",
    "        self.name = name\n",
    "        self.age = age\n",
    "        self.sex = sex\n",
    "        self.company = company\n",
    "        \n",
    "    def add(self, a, b):\n",
    "        print(self.c_name)\n",
    "        print(f'a + b = {a+b}')\n",
    "        \n",
    "    def minus(self, a, b):\n",
    "        print(self.c_name)\n",
    "        print(f'a - b = {a-b}')\n",
    "        \n",
    "    def times(self, a, b):\n",
    "        print(f'a * b = {a*b}')\n",
    "    \n",
    "    def divide(self, a, b):\n",
    "        print(f'a / b = {a/b}')\n",
    "\"\"\"\n",
    "当有了__init__()函数后，下面的引用类就报错了，因为没有在初始化时传参\n",
    "c = Calculator()\n",
    "c.add(1,2)\n",
    "c.minus(10,8)\n",
    "c.times(3,8)\n",
    "c.divide(9,4)\n",
    "\"\"\"\n",
    "## 当__init__()有部分具有默认值，而另一部分参数没有默认值时，需要把没有默认值的参数提到前面，不然会报错，正确写法如\n",
    "## def __init__(self,age,company,name='zhangsan',sex='female'):\n",
    "c = Calculator(age=90,company='jd')\n",
    "print(c.name)\n",
    "print(c.age)\n",
    "print(c.sex)\n",
    "print(c.company)"
   ]
  },
  {
   "cell_type": "markdown",
   "metadata": {},
   "source": [
    "### 4、输入函数"
   ]
  },
  {
   "cell_type": "code",
   "execution_count": 17,
   "metadata": {},
   "outputs": [
    {
     "name": "stdin",
     "output_type": "stream",
     "text": [
      "请输入一个数字: 3\n"
     ]
    },
    {
     "name": "stdout",
     "output_type": "stream",
     "text": [
      "好运\n"
     ]
    }
   ],
   "source": [
    "x_input = int(input('请输入一个数字:'))\n",
    "if x_input == 1:\n",
    "    print(f'你输入的数字为：{x_input}')\n",
    "elif x_input == 2:\n",
    "    print(f'你输入的数字为：{x_input}')\n",
    "else:\n",
    "    print('好运')"
   ]
  },
  {
   "cell_type": "code",
   "execution_count": null,
   "metadata": {},
   "outputs": [],
   "source": []
  }
 ],
 "metadata": {
  "kernelspec": {
   "display_name": "Python 3",
   "language": "python",
   "name": "python3"
  },
  "language_info": {
   "codemirror_mode": {
    "name": "ipython",
    "version": 3
   },
   "file_extension": ".py",
   "mimetype": "text/x-python",
   "name": "python",
   "nbconvert_exporter": "python",
   "pygments_lexer": "ipython3",
   "version": "3.7.7"
  }
 },
 "nbformat": 4,
 "nbformat_minor": 4
}
