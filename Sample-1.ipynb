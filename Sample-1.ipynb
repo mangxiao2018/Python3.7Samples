{
 "cells": [
  {
   "cell_type": "markdown",
   "metadata": {},
   "source": [
    "## Python3.7 基础练习"
   ]
  },
  {
   "cell_type": "markdown",
   "metadata": {},
   "source": [
    "### 1、安装&配置环境变量"
   ]
  },
  {
   "cell_type": "markdown",
   "metadata": {},
   "source": [
    "**Window 10 环境**\n",
    "- Step1、下载\n",
    "\n",
    " 地址：https://www.python.org/downloads/\n",
    "\n",
    "![image.png](./pic/python3.7-download-list.jpg)\n",
    "\n",
    "![image.png](./pic/python3.7-window10-download-list.jpg)\n",
    "\n",
    "- Step2、安装   \n",
    "\n",
    "![image.png](./pic/install-pages.jpg)  \n",
    "\n",
    "一路默认next下去，直到完成。\n",
    "\n",
    "- Step3、配置环境变量\n",
    "Window10环境不用配置也可以用\n",
    "\n",
    "- Step4、检验是否安装成功\n",
    "命令行中使用 # python -V 查看python版本，如果能正常显示出版本信息，表示安装成功且可以使用了。 "
   ]
  },
  {
   "cell_type": "code",
   "execution_count": 11,
   "metadata": {},
   "outputs": [
    {
     "name": "stdout",
     "output_type": "stream",
     "text": [
      "3.7.7\n",
      "3.7.7 (default, May  6 2020, 11:45:54) [MSC v.1916 64 bit (AMD64)]\n",
      "sys.version_info(major=3, minor=7, micro=7, releaselevel='final', serial=0)\n"
     ]
    }
   ],
   "source": [
    "# 打印python版本\n",
    "# 方法一\n",
    "import platform\n",
    "print(platform.python_version())\n",
    "# 方法二\n",
    "import sys\n",
    "print(sys.version)\n",
    "print(sys.version_info)"
   ]
  },
  {
   "cell_type": "markdown",
   "metadata": {},
   "source": [
    "### 2、运算"
   ]
  },
  {
   "cell_type": "code",
   "execution_count": 7,
   "metadata": {},
   "outputs": [
    {
     "name": "stdout",
     "output_type": "stream",
     "text": [
      "a + b : 3\n",
      "a / b : 0.5\n",
      "c - a : 2\n",
      "b * c : 6\n",
      "b**2 : 4\n",
      "b^2 : 0\n",
      "c % b : 1\n",
      "c // b : 1\n"
     ]
    }
   ],
   "source": [
    "a = 1\n",
    "b = 2\n",
    "c = 3\n",
    "print(\"a + b :\", a + b)\n",
    "# / 除法，不是整除\n",
    "print(\"a / b :\",a / b)\n",
    "print(\"c - a :\",c - a)\n",
    "print(\"b * c :\",b * c)\n",
    "# ** 幂次方 \n",
    "print(\"b**2 :\",b**2)\n",
    "# 按位异或运算符：当两对应的二进位相异时，结果为1\n",
    "print(\"b^2 :\",b^2)\n",
    "# % 取模 - 返回除法的余数\n",
    "print(\"c % b :\",c % b)\n",
    "# // 取整除 - 向下取接近商的整数\n",
    "print(\"c // b :\", c // b)"
   ]
  },
  {
   "cell_type": "markdown",
   "metadata": {},
   "source": [
    "### 3、循环"
   ]
  },
  {
   "cell_type": "code",
   "execution_count": 10,
   "metadata": {},
   "outputs": [
    {
     "name": "stdout",
     "output_type": "stream",
     "text": [
      "1\n",
      "2\n",
      "3\n",
      "4\n",
      "5\n",
      "6\n",
      "7\n",
      "8\n",
      "9\n"
     ]
    }
   ],
   "source": [
    "# while循环\n",
    "condition = 1\n",
    "while condition < 10:\n",
    "    print(condition)\n",
    "    condition = condition + 1"
   ]
  },
  {
   "cell_type": "code",
   "execution_count": 2,
   "metadata": {},
   "outputs": [
    {
     "name": "stdout",
     "output_type": "stream",
     "text": [
      "1 * 1 = 1 \n",
      "2 * 1 = 2 2 * 2 = 4 \n",
      "3 * 1 = 3 3 * 2 = 6 3 * 3 = 9 \n",
      "4 * 1 = 4 4 * 2 = 8 4 * 3 = 12 4 * 4 = 16 \n",
      "5 * 1 = 5 5 * 2 = 10 5 * 3 = 15 5 * 4 = 20 5 * 5 = 25 \n",
      "6 * 1 = 6 6 * 2 = 12 6 * 3 = 18 6 * 4 = 24 6 * 5 = 30 6 * 6 = 36 \n",
      "7 * 1 = 7 7 * 2 = 14 7 * 3 = 21 7 * 4 = 28 7 * 5 = 35 7 * 6 = 42 7 * 7 = 49 \n",
      "8 * 1 = 8 8 * 2 = 16 8 * 3 = 24 8 * 4 = 32 8 * 5 = 40 8 * 6 = 48 8 * 7 = 56 8 * 8 = 64 \n",
      "9 * 1 = 9 9 * 2 = 18 9 * 3 = 27 9 * 4 = 36 9 * 5 = 45 9 * 6 = 54 9 * 7 = 63 9 * 8 = 72 9 * 9 = 81 \n"
     ]
    }
   ],
   "source": [
    "# 循环嵌套\n",
    "# 经典案例：乘法口诀\n",
    "n = 1\n",
    "while n <= 9:\n",
    "    m = 1\n",
    "    while m <= n:\n",
    "        print(f'{n} * {m} = {n*m}', end = ' ')\n",
    "        m = m + 1\n",
    "    n = n + 1\n",
    "    print()"
   ]
  },
  {
   "cell_type": "markdown",
   "metadata": {},
   "source": [
    "### 4、自变量"
   ]
  },
  {
   "cell_type": "code",
   "execution_count": 13,
   "metadata": {},
   "outputs": [
    {
     "name": "stdout",
     "output_type": "stream",
     "text": [
      "age: 18\n",
      "name: mangxiao\n",
      "salary: 19000.12\n"
     ]
    }
   ],
   "source": [
    "age = 18\n",
    "name = \"mangxiao\"\n",
    "salary = 19000.12\n",
    "print(\"age:\", age)\n",
    "print(\"name:\", name)\n",
    "print(\"salary:\", salary)"
   ]
  },
  {
   "cell_type": "code",
   "execution_count": null,
   "metadata": {},
   "outputs": [],
   "source": []
  }
 ],
 "metadata": {
  "kernelspec": {
   "display_name": "Python 3",
   "language": "python",
   "name": "python3"
  },
  "language_info": {
   "codemirror_mode": {
    "name": "ipython",
    "version": 3
   },
   "file_extension": ".py",
   "mimetype": "text/x-python",
   "name": "python",
   "nbconvert_exporter": "python",
   "pygments_lexer": "ipython3",
   "version": "3.7.7"
  }
 },
 "nbformat": 4,
 "nbformat_minor": 4
}
